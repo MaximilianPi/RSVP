{
 "cells": [
  {
   "cell_type": "markdown",
   "metadata": {},
   "source": [
    "In this notebook, we show how to run RSVP on all 44 datasets.\n",
    "\n",
    "Make sure you have the `Matrix` R package installed.\n",
    "\n",
    "For the analysis, we keep those genes that are : 1) protein coding; 2) autosomal; 3) are annotated by the gene ontology.\n",
    "\n",
    "When considering gene-gene edges, we look at **inter-chromosomal** genes only (to avoid problems due to linkage disequilibrium).\n",
    "\n",
    "# Loading the data\n"
   ]
  },
  {
   "cell_type": "code",
   "execution_count": 4,
   "metadata": {},
   "outputs": [
    {
     "data": {
      "text/html": [
       "<ol class=list-inline>\n",
       "\t<li>'datasets'</li>\n",
       "\t<li>'ens_to_symbol'</li>\n",
       "</ol>\n"
      ],
      "text/latex": [
       "\\begin{enumerate*}\n",
       "\\item 'datasets'\n",
       "\\item 'ens\\_to\\_symbol'\n",
       "\\end{enumerate*}\n"
      ],
      "text/markdown": [
       "1. 'datasets'\n",
       "2. 'ens_to_symbol'\n",
       "\n",
       "\n"
      ],
      "text/plain": [
       "[1] \"datasets\"      \"ens_to_symbol\""
      ]
     },
     "metadata": {},
     "output_type": "display_data"
    }
   ],
   "source": [
    "rm(list=ls()) # Clear the environment\n",
    "\n",
    "# Loading the expression matrices of all tissues. \n",
    "load(\"./DataPreparation/all_tissues.preprocessed.data.RData.gz\")\n",
    "# You should have two variables : datasets and ens_to_symbol. \n",
    "ls()"
   ]
  },
  {
   "cell_type": "markdown",
   "metadata": {},
   "source": [
    "The `datasets` variable has one key per tissue:"
   ]
  },
  {
   "cell_type": "code",
   "execution_count": 6,
   "metadata": {},
   "outputs": [
    {
     "data": {
      "text/html": [
       "<ol class=list-inline>\n",
       "\t<li>'Adipose_Subcutaneous'</li>\n",
       "\t<li>'Adipose_Visceral_Omentum'</li>\n",
       "\t<li>'Adrenal_Gland'</li>\n",
       "\t<li>'Artery_Aorta'</li>\n",
       "\t<li>'Artery_Coronary'</li>\n",
       "\t<li>'Artery_Tibial'</li>\n",
       "\t<li>'Brain_Anterior_cingulate_cortex_BA24'</li>\n",
       "\t<li>'Brain_Caudate_basal_ganglia'</li>\n",
       "\t<li>'Brain_Cerebellar_Hemisphere'</li>\n",
       "\t<li>'Brain_Cerebellum'</li>\n",
       "\t<li>'Brain_Cortex'</li>\n",
       "\t<li>'Brain_Frontal_Cortex_BA9'</li>\n",
       "\t<li>'Brain_Hippocampus'</li>\n",
       "\t<li>'Brain_Hypothalamus'</li>\n",
       "\t<li>'Brain_Nucleus_accumbens_basal_ganglia'</li>\n",
       "\t<li>'Brain_Putamen_basal_ganglia'</li>\n",
       "\t<li>'Breast_Mammary_Tissue'</li>\n",
       "\t<li>'Cells_EBV-transformed_lymphocytes'</li>\n",
       "\t<li>'Cells_Transformed_fibroblasts'</li>\n",
       "\t<li>'Colon_Sigmoid'</li>\n",
       "\t<li>'Colon_Transverse'</li>\n",
       "\t<li>'Esophagus_Gastroesophageal_Junction'</li>\n",
       "\t<li>'Esophagus_Mucosa'</li>\n",
       "\t<li>'Esophagus_Muscularis'</li>\n",
       "\t<li>'Heart_Atrial_Appendage'</li>\n",
       "\t<li>'Heart_Left_Ventricle'</li>\n",
       "\t<li>'Liver'</li>\n",
       "\t<li>'Lung'</li>\n",
       "\t<li>'Muscle_Skeletal'</li>\n",
       "\t<li>'Nerve_Tibial'</li>\n",
       "\t<li>'Ovary'</li>\n",
       "\t<li>'Pancreas'</li>\n",
       "\t<li>'Pituitary'</li>\n",
       "\t<li>'Prostate'</li>\n",
       "\t<li>'Skin_Not_Sun_Exposed_Suprapubic'</li>\n",
       "\t<li>'Skin_Sun_Exposed_Lower_leg'</li>\n",
       "\t<li>'Small_Intestine_Terminal_Ileum'</li>\n",
       "\t<li>'Spleen'</li>\n",
       "\t<li>'Stomach'</li>\n",
       "\t<li>'Testis'</li>\n",
       "\t<li>'Thyroid'</li>\n",
       "\t<li>'Uterus'</li>\n",
       "\t<li>'Vagina'</li>\n",
       "\t<li>'Whole_Blood'</li>\n",
       "</ol>\n"
      ],
      "text/latex": [
       "\\begin{enumerate*}\n",
       "\\item 'Adipose\\_Subcutaneous'\n",
       "\\item 'Adipose\\_Visceral\\_Omentum'\n",
       "\\item 'Adrenal\\_Gland'\n",
       "\\item 'Artery\\_Aorta'\n",
       "\\item 'Artery\\_Coronary'\n",
       "\\item 'Artery\\_Tibial'\n",
       "\\item 'Brain\\_Anterior\\_cingulate\\_cortex\\_BA24'\n",
       "\\item 'Brain\\_Caudate\\_basal\\_ganglia'\n",
       "\\item 'Brain\\_Cerebellar\\_Hemisphere'\n",
       "\\item 'Brain\\_Cerebellum'\n",
       "\\item 'Brain\\_Cortex'\n",
       "\\item 'Brain\\_Frontal\\_Cortex\\_BA9'\n",
       "\\item 'Brain\\_Hippocampus'\n",
       "\\item 'Brain\\_Hypothalamus'\n",
       "\\item 'Brain\\_Nucleus\\_accumbens\\_basal\\_ganglia'\n",
       "\\item 'Brain\\_Putamen\\_basal\\_ganglia'\n",
       "\\item 'Breast\\_Mammary\\_Tissue'\n",
       "\\item 'Cells\\_EBV-transformed\\_lymphocytes'\n",
       "\\item 'Cells\\_Transformed\\_fibroblasts'\n",
       "\\item 'Colon\\_Sigmoid'\n",
       "\\item 'Colon\\_Transverse'\n",
       "\\item 'Esophagus\\_Gastroesophageal\\_Junction'\n",
       "\\item 'Esophagus\\_Mucosa'\n",
       "\\item 'Esophagus\\_Muscularis'\n",
       "\\item 'Heart\\_Atrial\\_Appendage'\n",
       "\\item 'Heart\\_Left\\_Ventricle'\n",
       "\\item 'Liver'\n",
       "\\item 'Lung'\n",
       "\\item 'Muscle\\_Skeletal'\n",
       "\\item 'Nerve\\_Tibial'\n",
       "\\item 'Ovary'\n",
       "\\item 'Pancreas'\n",
       "\\item 'Pituitary'\n",
       "\\item 'Prostate'\n",
       "\\item 'Skin\\_Not\\_Sun\\_Exposed\\_Suprapubic'\n",
       "\\item 'Skin\\_Sun\\_Exposed\\_Lower\\_leg'\n",
       "\\item 'Small\\_Intestine\\_Terminal\\_Ileum'\n",
       "\\item 'Spleen'\n",
       "\\item 'Stomach'\n",
       "\\item 'Testis'\n",
       "\\item 'Thyroid'\n",
       "\\item 'Uterus'\n",
       "\\item 'Vagina'\n",
       "\\item 'Whole\\_Blood'\n",
       "\\end{enumerate*}\n"
      ],
      "text/markdown": [
       "1. 'Adipose_Subcutaneous'\n",
       "2. 'Adipose_Visceral_Omentum'\n",
       "3. 'Adrenal_Gland'\n",
       "4. 'Artery_Aorta'\n",
       "5. 'Artery_Coronary'\n",
       "6. 'Artery_Tibial'\n",
       "7. 'Brain_Anterior_cingulate_cortex_BA24'\n",
       "8. 'Brain_Caudate_basal_ganglia'\n",
       "9. 'Brain_Cerebellar_Hemisphere'\n",
       "10. 'Brain_Cerebellum'\n",
       "11. 'Brain_Cortex'\n",
       "12. 'Brain_Frontal_Cortex_BA9'\n",
       "13. 'Brain_Hippocampus'\n",
       "14. 'Brain_Hypothalamus'\n",
       "15. 'Brain_Nucleus_accumbens_basal_ganglia'\n",
       "16. 'Brain_Putamen_basal_ganglia'\n",
       "17. 'Breast_Mammary_Tissue'\n",
       "18. 'Cells_EBV-transformed_lymphocytes'\n",
       "19. 'Cells_Transformed_fibroblasts'\n",
       "20. 'Colon_Sigmoid'\n",
       "21. 'Colon_Transverse'\n",
       "22. 'Esophagus_Gastroesophageal_Junction'\n",
       "23. 'Esophagus_Mucosa'\n",
       "24. 'Esophagus_Muscularis'\n",
       "25. 'Heart_Atrial_Appendage'\n",
       "26. 'Heart_Left_Ventricle'\n",
       "27. 'Liver'\n",
       "28. 'Lung'\n",
       "29. 'Muscle_Skeletal'\n",
       "30. 'Nerve_Tibial'\n",
       "31. 'Ovary'\n",
       "32. 'Pancreas'\n",
       "33. 'Pituitary'\n",
       "34. 'Prostate'\n",
       "35. 'Skin_Not_Sun_Exposed_Suprapubic'\n",
       "36. 'Skin_Sun_Exposed_Lower_leg'\n",
       "37. 'Small_Intestine_Terminal_Ileum'\n",
       "38. 'Spleen'\n",
       "39. 'Stomach'\n",
       "40. 'Testis'\n",
       "41. 'Thyroid'\n",
       "42. 'Uterus'\n",
       "43. 'Vagina'\n",
       "44. 'Whole_Blood'\n",
       "\n",
       "\n"
      ],
      "text/plain": [
       " [1] \"Adipose_Subcutaneous\"                 \n",
       " [2] \"Adipose_Visceral_Omentum\"             \n",
       " [3] \"Adrenal_Gland\"                        \n",
       " [4] \"Artery_Aorta\"                         \n",
       " [5] \"Artery_Coronary\"                      \n",
       " [6] \"Artery_Tibial\"                        \n",
       " [7] \"Brain_Anterior_cingulate_cortex_BA24\" \n",
       " [8] \"Brain_Caudate_basal_ganglia\"          \n",
       " [9] \"Brain_Cerebellar_Hemisphere\"          \n",
       "[10] \"Brain_Cerebellum\"                     \n",
       "[11] \"Brain_Cortex\"                         \n",
       "[12] \"Brain_Frontal_Cortex_BA9\"             \n",
       "[13] \"Brain_Hippocampus\"                    \n",
       "[14] \"Brain_Hypothalamus\"                   \n",
       "[15] \"Brain_Nucleus_accumbens_basal_ganglia\"\n",
       "[16] \"Brain_Putamen_basal_ganglia\"          \n",
       "[17] \"Breast_Mammary_Tissue\"                \n",
       "[18] \"Cells_EBV-transformed_lymphocytes\"    \n",
       "[19] \"Cells_Transformed_fibroblasts\"        \n",
       "[20] \"Colon_Sigmoid\"                        \n",
       "[21] \"Colon_Transverse\"                     \n",
       "[22] \"Esophagus_Gastroesophageal_Junction\"  \n",
       "[23] \"Esophagus_Mucosa\"                     \n",
       "[24] \"Esophagus_Muscularis\"                 \n",
       "[25] \"Heart_Atrial_Appendage\"               \n",
       "[26] \"Heart_Left_Ventricle\"                 \n",
       "[27] \"Liver\"                                \n",
       "[28] \"Lung\"                                 \n",
       "[29] \"Muscle_Skeletal\"                      \n",
       "[30] \"Nerve_Tibial\"                         \n",
       "[31] \"Ovary\"                                \n",
       "[32] \"Pancreas\"                             \n",
       "[33] \"Pituitary\"                            \n",
       "[34] \"Prostate\"                             \n",
       "[35] \"Skin_Not_Sun_Exposed_Suprapubic\"      \n",
       "[36] \"Skin_Sun_Exposed_Lower_leg\"           \n",
       "[37] \"Small_Intestine_Terminal_Ileum\"       \n",
       "[38] \"Spleen\"                               \n",
       "[39] \"Stomach\"                              \n",
       "[40] \"Testis\"                               \n",
       "[41] \"Thyroid\"                              \n",
       "[42] \"Uterus\"                               \n",
       "[43] \"Vagina\"                               \n",
       "[44] \"Whole_Blood\"                          "
      ]
     },
     "metadata": {},
     "output_type": "display_data"
    }
   ],
   "source": [
    "names(datasets)"
   ]
  },
  {
   "cell_type": "markdown",
   "metadata": {},
   "source": [
    "For each tissue there are 4 entries:\n",
    "-  covariates : a $q \\times n$ matrix of covariates. There is one row per confounder and one column per sample.\n",
    "-  expr.normal : a $n \\times p$ matrix of gene expressions. There is one row per sample and one column / gene.\n",
    "-  expr.unconfounded: a $n \\times p$ matrix of gene expressions. It is the matrix of residuals from the regression `lm(expr.norm ~ t(covariates))`. \n",
    "-  chromosomes: a vector of size $p$, the chromosomes of the $p$ genes."
   ]
  },
  {
   "cell_type": "markdown",
   "metadata": {},
   "source": [
    "# R code to estimate a graph with RSVP"
   ]
  },
  {
   "cell_type": "code",
   "execution_count": 43,
   "metadata": {},
   "outputs": [
    {
     "name": "stderr",
     "output_type": "stream",
     "text": [
      "Warning message:\n",
      "“package ‘Matrix’ was built under R version 3.4.4”"
     ]
    }
   ],
   "source": [
    "library(Matrix)\n",
    "estimate.graph.with.RSVP <- function(X, chrs, n.edges=100) {\n",
    "    p <- ncol(X)\n",
    "    n <- nrow(X)\n",
    "\n",
    "    X <- scale(X, scale=FALSE)\n",
    "    \n",
    "    # Return V V^T\n",
    "    coefs <- tcrossprod(svd(scale(X, scale=FALSE), nu=0, nv = nrow(X)-1)$v)\n",
    "    colnames(coefs) <- rownames(coefs) <- colnames(X)\n",
    "\n",
    "    # Keep only inter chromosomal edges\n",
    "    for (i in 1:p) {\n",
    "        y_chr <- chrs[i]\n",
    "        idx <- which(chrs == y_chr)\n",
    "        coefs[i, idx] <- 0\n",
    "    }\n",
    "    \n",
    "   coefs[lower.tri(coefs)] <- 0\n",
    "    # Keep the top 2*n edges\n",
    "    th <- sort(abs(coefs), decreasing = T)[(n.edges)] # Cutoff value\n",
    "    coefs[abs(coefs) < th] <- 0\n",
    "    coefs <- Matrix(coefs, sparse = T)\n",
    "    nnz <- which(coefs !=0 , arr.ind = T)\n",
    "    nnz2 <- which(coefs !=0)\n",
    "    nnz <- cbind(nnz, coefs[nnz2])\n",
    "    path <- nnz[order(abs(nnz[,3]), decreasing = T),]\n",
    "\n",
    "    # A matrix with three columns : Edges 1 -- Edges 2 -- Value of the coefficient\n",
    "    path\n",
    "}"
   ]
  },
  {
   "cell_type": "markdown",
   "metadata": {},
   "source": [
    "# Running RSVP on all tissues\n",
    "\n",
    "We can now loop through the tissues and compute a graph on the raw datasets. Running RSVP should take around 2 minutes per tissue. "
   ]
  },
  {
   "cell_type": "code",
   "execution_count": 55,
   "metadata": {},
   "outputs": [
    {
     "name": "stderr",
     "output_type": "stream",
     "text": [
      "Warning message in dir.create(file.path(\"./\", \"results\")):\n",
      "“'.//results' already exists”"
     ]
    },
    {
     "name": "stdout",
     "output_type": "stream",
     "text": [
      "[1] \"Tissue: Adipose_Subcutaneous , Dimensions: 385 x 14585\"\n",
      "Time difference of 2.033186 mins\n",
      "[1] \"Tissue: Adipose_Visceral_Omentum , Dimensions: 313 x 14658\"\n",
      "Time difference of 1.649907 mins\n"
     ]
    }
   ],
   "source": [
    "valid_genes <- read.csv(\"./DataPreparation/ensembl_genes_with_go_annotations.txt\", header=FALSE)\n",
    "tissues <- names(datasets)\n",
    "dir.create(file.path(\"./\", \"results\")) # Create a directory for the results\n",
    "\n",
    "count <- 0\n",
    "for (tissue in tissues) {\n",
    "    chrs <- get(tissue, datasets)$chromosomes\n",
    "\n",
    "    X <- get(tissue, datasets)$expr.normal\n",
    "    # Keep only the genes for which we have known annotations\n",
    "    idx <- which(colnames(X) %in% valid_genes$V1)\n",
    "    X <- X[,idx]\n",
    "    chrs <- chrs[idx]\n",
    "    print(paste(\"Tissue:\", tissue, \", Dimensions:\", nrow(X), \"x\", ncol(X)))\n",
    "    start <- Sys.time()\n",
    "    path <- estimate.graph.with.RSVP(X = X, chrs = chrs)\n",
    "    stop <- Sys.time()\n",
    "    print(stop - start)\n",
    "    \n",
    "    # Save the path to a csv file so we can analyse it later.\n",
    "    fn <- paste(\"./results/\", tissue, \"_raw_dataset.csv\", sep=\"\")\n",
    "    write.csv(path, file=fn)\n",
    "    \n",
    "    # Here we stop after two tissues\n",
    "    count <- count + 1\n",
    "    if (count >= 2) {\n",
    "        break()\n",
    "    }\n",
    "}"
   ]
  },
  {
   "cell_type": "markdown",
   "metadata": {},
   "source": [
    "# Analysing the results\n",
    "\n",
    "The analysis of the graphs is done in Python3 in another notebook. See the README."
   ]
  },
  {
   "cell_type": "code",
   "execution_count": 105,
   "metadata": {},
   "outputs": [],
   "source": [
    "# This creates .csv files that contain the list of genes used for each tissue\n",
    "row.names(nms) <- tissues\n",
    "colnames(nms) <- valid_genes$V1\n",
    "for (tissue in names(datasets)) {\n",
    "    X <- get(tissue, datasets)$expr.normal\n",
    "    cnames <- colnames(X)\n",
    "    idx <- which(colnames(X) %in% valid_genes$V1)\n",
    "    X <- X[,idx]\n",
    "    cnms <- colnames(X)\n",
    "    fn <- paste('./DataPreparation/valid_genes_per_tissue/', tissue, '.csv', sep=\"\")\n",
    "    write.csv(cnms, file=fn)\n",
    "}"
   ]
  }
 ],
 "metadata": {
  "kernelspec": {
   "display_name": "R",
   "language": "R",
   "name": "ir"
  },
  "language_info": {
   "codemirror_mode": "r",
   "file_extension": ".r",
   "mimetype": "text/x-r-source",
   "name": "R",
   "pygments_lexer": "r",
   "version": "3.4.3"
  }
 },
 "nbformat": 4,
 "nbformat_minor": 2
}
