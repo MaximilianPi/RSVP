{
 "cells": [
  {
   "cell_type": "markdown",
   "metadata": {},
   "source": [
    "# Scoring the graphs with the gene ontology"
   ]
  },
  {
   "cell_type": "markdown",
   "metadata": {},
   "source": [
    "## Prerequisites\n",
    "\n",
    "You will need [Biopython](https://biopython.org/) in order to parse the gene ontology file. It should be part of the [anaconda](https://www.anaconda.com/) distribution. \n",
    "\n",
    "You will also need `networkx`, which is also a standard library of the anaconda distribution.\n",
    "\n",
    "## Loading the gene ontology.\n",
    "\n",
    "Here, we map the ensembl ID of genes to their GO terms."
   ]
  },
  {
   "cell_type": "code",
   "execution_count": 33,
   "metadata": {},
   "outputs": [],
   "source": [
    "from Bio.UniProt.GOA import gafiterator\n",
    "import gzip\n",
    "import pandas as pd\n",
    "import networkx as nx\n",
    "from copy import deepcopy\n",
    "\n",
    "# Load the annotations, map them to their respective protein coding gene\n",
    "filename = './DataPreparation/goa_human.gaf.gz'\n",
    "fp = gzip.open(filename, 'rt')\n",
    "gafi = gafiterator(fp)\n",
    "gene_to_go = {}\n",
    "go_to_desc = {}\n",
    "\n",
    "# Create a dictionnary mapping gene symbols to their GO terms\n",
    "for i in gafi:\n",
    "    gene = i['DB_Object_Symbol']\n",
    "    go_id = i['GO_ID']\n",
    "    if gene not in gene_to_go:\n",
    "        gene_to_go[gene] = []\n",
    "    gene_to_go[gene].append(go_id)\n",
    "    \n",
    "# Load the mapping from ensemble genes to gene symbols\n",
    "ens_to_gene = pd.read_csv(\"./DataPreparation/gene_name_mapping.csv\")\n",
    "ens_to_gene.set_index(\"V2\", inplace=True)\n",
    "\n",
    "# Map ensembl IDs to their Go terms.\n",
    "ens_to_go = {}\n",
    "for gene in ens_to_gene.index:\n",
    "        if gene in gene_to_go:\n",
    "                go_ids = gene_to_go[gene]\n",
    "        else:\n",
    "                continue\n",
    "        ens = ens_to_gene.loc[gene,'V1']\n",
    "        if isinstance(ens, pd.Series):\n",
    "                ens = ens.iloc[0]\n",
    "        ens_to_go[ens] = go_ids\n",
    "\n",
    "ens_genes = ens_to_go.keys()"
   ]
  },
  {
   "cell_type": "markdown",
   "metadata": {},
   "source": [
    "## Code to score one graph\n",
    "\n",
    "See the appendix of [this paper](https://www.tandfonline.com/doi/full/10.1080/01621459.2018.1434531) for more details on this enrichment metric."
   ]
  },
  {
   "cell_type": "code",
   "execution_count": 25,
   "metadata": {},
   "outputs": [],
   "source": [
    "# This is the function that scores one graph, once it has been annotated.\n",
    "def score_graph(g):\n",
    "    N1_T = {}\n",
    "    N2_T = {}\n",
    "    for e in g.edges(data=True):\n",
    "        source = e[0]\n",
    "        target = e[1]\n",
    "        s1 = g.node[source]['a']\n",
    "        s2 = g.node[target]['a']\n",
    "        intersection = s1 & s2\n",
    "        if len(intersection) == 0:\n",
    "            continue\n",
    "        for term in intersection:\n",
    "            if term not in N1_T:\n",
    "                N1_T[term] = 0\n",
    "            N1_T[term] += 1.0\n",
    "    for source in g.nodes():\n",
    "        if len(g.node[source]['a']) == 0:\n",
    "            continue\n",
    "        source_ann = g.node[source]['a']\n",
    "        for term in source_ann:\n",
    "            if term not in N2_T:\n",
    "                N2_T[term] = 0\n",
    "            N2_T[term] += 1\n",
    "    Ne = len(g.edges())\n",
    "    Nn = len(g.nodes())\n",
    "    r = (Nn**2 - Nn) / Ne\n",
    "\n",
    "    scores = []\n",
    "    st = {}\n",
    "    for term in N2_T:\n",
    "        if term not in N1_T:\n",
    "            scores.append(0)\n",
    "            st[term] = 0\n",
    "            continue\n",
    "        scores.append(N1_T[term] * 1.0 / (N2_T[term]**2 - N2_T[term]))\n",
    "        st[term] = scores[-1]\n",
    "    avg = np.mean(scores)\n",
    "    if avg == 0:\n",
    "        return st, 1e-08\n",
    "\n",
    "    return st, avg * r"
   ]
  },
  {
   "cell_type": "code",
   "execution_count": 90,
   "metadata": {},
   "outputs": [],
   "source": [
    "# Prepare empty graphs with annotations\n",
    "# This creates a graph with no edges but with one node/gene.\n",
    "# Sets of GO terms are attached to the nodes\n",
    "\n",
    "def create_empty_graph(tissue):\n",
    "    valid_genes = pd.read_csv(\"./DataPreparation/valid_genes_per_tissue/\" + tissue + '.csv')\n",
    "    nms = valid_genes.x\n",
    "    G = nx.Graph()\n",
    "    for i, nm in enumerate(nms):\n",
    "        if nm not in ens_to_go:\n",
    "            continue\n",
    "        G.add_node(i)\n",
    "        G.node[i]['name'] = nm\n",
    "        G.node[i]['a'] = set(ens_to_go[nm])\n",
    "    return G"
   ]
  },
  {
   "cell_type": "markdown",
   "metadata": {},
   "source": [
    "## Scoring the graphs\n",
    "\n",
    "Finally, we can assign a score to each graph. If you have run the R notebook `EstimationWithRSVP.ipynb` before, you should have a directory called `results` with one .csv file per tissue. "
   ]
  },
  {
   "cell_type": "code",
   "execution_count": 112,
   "metadata": {
    "scrolled": true
   },
   "outputs": [
    {
     "name": "stdout",
     "output_type": "stream",
     "text": [
      "Adipose_Visceral_Omentum\n",
      "Adipose_Subcutaneous\n"
     ]
    }
   ],
   "source": [
    "from glob import glob\n",
    "import numpy as np\n",
    "files = glob(\"results/*.csv\")\n",
    "enrichment_scores = {}\n",
    "for fn in files:\n",
    "    tissue = '_'.join(fn.split('/')[-1].split('_')[:-2])\n",
    "    print(tissue)\n",
    "    path = pd.read_csv(fn)\n",
    "    path.columns = ['gene_name', 'row', 'col', 'value']\n",
    "    # Create an emtpy graph for that tissue\n",
    "    G = create_empty_graph(tissue)\n",
    "    for i in range(path.shape[0]):\n",
    "        # Add the ith edge and score\n",
    "        n1 = path.iloc[i,1] - 1 #Subtract one because Python is 0 indexed\n",
    "        n2 = path.iloc[i,2] - 1\n",
    "        a1 = G.node[n1]['a'] # The annotations for that node\n",
    "        a2 = G.node[n2]['a']\n",
    "        G.add_edge(n1,n2,a=a1&a1) # Add the edge and annotate it with the intersection of the nodes' annotations.\n",
    "\n",
    "        G2 = deepcopy(G)\n",
    "        st, s = score_graph(G2)\n",
    "        enrichment_scores[('Estimated Graph', tissue, i+1)] = s \n",
    "        \n",
    "    # Let us add a graph which connects edges at random\n",
    "    # to see how ti compares\n",
    "    G = create_empty_graph(tissue)\n",
    "    n_nodes = len(G.nodes)\n",
    "    for i in range(path.shape[0]):\n",
    "        # Add the ith edge and score\n",
    "        n1 = np.random.randint(low=1, high=n_nodes) - 1 #Subtract one because Python is 0 indexed\n",
    "        n2 = np.random.randint(low=1, high=n_nodes) - 1\n",
    "        a1 = G.node[n1]['a'] # The annotations for that node\n",
    "        a2 = G.node[n2]['a']\n",
    "        G.add_edge(n1,n2,a=a1&a1) # Add the edge and annotate it with the intersection of the nodes' annotations.\n",
    "\n",
    "        G2 = deepcopy(G)\n",
    "        st, s = score_graph(G2)\n",
    "        enrichment_scores[('Random Graph', tissue, i+1)] = s "
   ]
  },
  {
   "cell_type": "code",
   "execution_count": 123,
   "metadata": {},
   "outputs": [
    {
     "name": "stdout",
     "output_type": "stream",
     "text": [
      "Populating the interactive namespace from numpy and matplotlib\n"
     ]
    },
    {
     "data": {
      "text/plain": [
       "<matplotlib.axes._subplots.AxesSubplot at 0x1553749ac8>"
      ]
     },
     "execution_count": 123,
     "metadata": {},
     "output_type": "execute_result"
    },
    {
     "data": {
      "image/png": "[encoded data removed]",
      "text/plain": [
       "<matplotlib.figure.Figure at 0x15459ea198>"
      ]
     },
     "metadata": {},
     "output_type": "display_data"
    }
   ],
   "source": [
    "%pylab inline\n",
    "pd.Series(enrichment_scores).unstack().T.mean().plot.bar(title='Average enrichment score.')"
   ]
  }
 ],
 "metadata": {
  "kernelspec": {
   "display_name": "Python 3",
   "language": "python",
   "name": "python3"
  },
  "language_info": {
   "codemirror_mode": {
    "name": "ipython",
    "version": 3
   },
   "file_extension": ".py",
   "mimetype": "text/x-python",
   "name": "python",
   "nbconvert_exporter": "python",
   "pygments_lexer": "ipython3",
   "version": "3.6.8"
  }
 },
 "nbformat": 4,
 "nbformat_minor": 2
}
